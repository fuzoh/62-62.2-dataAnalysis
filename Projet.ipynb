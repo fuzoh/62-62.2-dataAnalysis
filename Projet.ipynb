{
 "cells": [
  {
   "cell_type": "markdown",
   "id": "7dbba591",
   "metadata": {},
   "source": [
    "# Importer les librairies"
   ]
  },
  {
   "cell_type": "code",
   "execution_count": 32,
   "id": "0e1c95d0",
   "metadata": {
    "ExecuteTime": {
     "end_time": "2024-12-30T19:07:20.123691Z",
     "start_time": "2024-12-30T19:07:20.121521Z"
    }
   },
   "outputs": [],
   "source": [
    "import pandas as pd\n",
    "import seaborn as sns\n",
    "import matplotlib.pyplot as plt\n",
    "import numpy as np\n",
    "from scipy import stats"
   ]
  },
  {
   "cell_type": "markdown",
   "id": "66d8a432",
   "metadata": {},
   "source": [
    "# Fonctions générales"
   ]
  },
  {
   "cell_type": "code",
   "execution_count": 33,
   "id": "c3718576",
   "metadata": {
    "ExecuteTime": {
     "end_time": "2024-12-30T19:07:20.137185Z",
     "start_time": "2024-12-30T19:07:20.133837Z"
    }
   },
   "outputs": [],
   "source": [
    "def cohen(x,y, t):\n",
    "    return (t*np.sqrt((x+y)/(x*y)))"
   ]
  },
  {
   "cell_type": "markdown",
   "id": "3abf0329",
   "metadata": {},
   "source": [
    "# Importer les données"
   ]
  },
  {
   "cell_type": "code",
   "execution_count": 34,
   "id": "1066b6ec",
   "metadata": {
    "ExecuteTime": {
     "end_time": "2024-12-30T19:07:20.215137Z",
     "start_time": "2024-12-30T19:07:20.204990Z"
    }
   },
   "outputs": [
    {
     "data": {
      "text/html": [
       "<div>\n",
       "<style scoped>\n",
       "    .dataframe tbody tr th:only-of-type {\n",
       "        vertical-align: middle;\n",
       "    }\n",
       "\n",
       "    .dataframe tbody tr th {\n",
       "        vertical-align: top;\n",
       "    }\n",
       "\n",
       "    .dataframe thead th {\n",
       "        text-align: right;\n",
       "    }\n",
       "</style>\n",
       "<table border=\"1\" class=\"dataframe\">\n",
       "  <thead>\n",
       "    <tr style=\"text-align: right;\">\n",
       "      <th></th>\n",
       "      <th>PassengerId</th>\n",
       "      <th>Survived</th>\n",
       "      <th>Pclass</th>\n",
       "      <th>Name</th>\n",
       "      <th>Sex</th>\n",
       "      <th>Age</th>\n",
       "      <th>SibSp</th>\n",
       "      <th>Parch</th>\n",
       "      <th>Ticket</th>\n",
       "      <th>Fare</th>\n",
       "      <th>Cabin</th>\n",
       "      <th>Embarked</th>\n",
       "    </tr>\n",
       "  </thead>\n",
       "  <tbody>\n",
       "    <tr>\n",
       "      <th>0</th>\n",
       "      <td>1</td>\n",
       "      <td>0</td>\n",
       "      <td>3</td>\n",
       "      <td>Braund, Mr. Owen Harris</td>\n",
       "      <td>male</td>\n",
       "      <td>22.0</td>\n",
       "      <td>1</td>\n",
       "      <td>0</td>\n",
       "      <td>A/5 21171</td>\n",
       "      <td>7.2500</td>\n",
       "      <td>NaN</td>\n",
       "      <td>S</td>\n",
       "    </tr>\n",
       "    <tr>\n",
       "      <th>1</th>\n",
       "      <td>2</td>\n",
       "      <td>1</td>\n",
       "      <td>1</td>\n",
       "      <td>Cumings, Mrs. John Bradley (Florence Briggs Th...</td>\n",
       "      <td>female</td>\n",
       "      <td>38.0</td>\n",
       "      <td>1</td>\n",
       "      <td>0</td>\n",
       "      <td>PC 17599</td>\n",
       "      <td>71.2833</td>\n",
       "      <td>C85</td>\n",
       "      <td>C</td>\n",
       "    </tr>\n",
       "    <tr>\n",
       "      <th>2</th>\n",
       "      <td>3</td>\n",
       "      <td>1</td>\n",
       "      <td>3</td>\n",
       "      <td>Heikkinen, Miss. Laina</td>\n",
       "      <td>female</td>\n",
       "      <td>26.0</td>\n",
       "      <td>0</td>\n",
       "      <td>0</td>\n",
       "      <td>STON/O2. 3101282</td>\n",
       "      <td>7.9250</td>\n",
       "      <td>NaN</td>\n",
       "      <td>S</td>\n",
       "    </tr>\n",
       "    <tr>\n",
       "      <th>3</th>\n",
       "      <td>4</td>\n",
       "      <td>1</td>\n",
       "      <td>1</td>\n",
       "      <td>Futrelle, Mrs. Jacques Heath (Lily May Peel)</td>\n",
       "      <td>female</td>\n",
       "      <td>35.0</td>\n",
       "      <td>1</td>\n",
       "      <td>0</td>\n",
       "      <td>113803</td>\n",
       "      <td>53.1000</td>\n",
       "      <td>C123</td>\n",
       "      <td>S</td>\n",
       "    </tr>\n",
       "    <tr>\n",
       "      <th>4</th>\n",
       "      <td>5</td>\n",
       "      <td>0</td>\n",
       "      <td>3</td>\n",
       "      <td>Allen, Mr. William Henry</td>\n",
       "      <td>male</td>\n",
       "      <td>35.0</td>\n",
       "      <td>0</td>\n",
       "      <td>0</td>\n",
       "      <td>373450</td>\n",
       "      <td>8.0500</td>\n",
       "      <td>NaN</td>\n",
       "      <td>S</td>\n",
       "    </tr>\n",
       "    <tr>\n",
       "      <th>...</th>\n",
       "      <td>...</td>\n",
       "      <td>...</td>\n",
       "      <td>...</td>\n",
       "      <td>...</td>\n",
       "      <td>...</td>\n",
       "      <td>...</td>\n",
       "      <td>...</td>\n",
       "      <td>...</td>\n",
       "      <td>...</td>\n",
       "      <td>...</td>\n",
       "      <td>...</td>\n",
       "      <td>...</td>\n",
       "    </tr>\n",
       "    <tr>\n",
       "      <th>886</th>\n",
       "      <td>887</td>\n",
       "      <td>0</td>\n",
       "      <td>2</td>\n",
       "      <td>Montvila, Rev. Juozas</td>\n",
       "      <td>male</td>\n",
       "      <td>27.0</td>\n",
       "      <td>0</td>\n",
       "      <td>0</td>\n",
       "      <td>211536</td>\n",
       "      <td>13.0000</td>\n",
       "      <td>NaN</td>\n",
       "      <td>S</td>\n",
       "    </tr>\n",
       "    <tr>\n",
       "      <th>887</th>\n",
       "      <td>888</td>\n",
       "      <td>1</td>\n",
       "      <td>1</td>\n",
       "      <td>Graham, Miss. Margaret Edith</td>\n",
       "      <td>female</td>\n",
       "      <td>19.0</td>\n",
       "      <td>0</td>\n",
       "      <td>0</td>\n",
       "      <td>112053</td>\n",
       "      <td>30.0000</td>\n",
       "      <td>B42</td>\n",
       "      <td>S</td>\n",
       "    </tr>\n",
       "    <tr>\n",
       "      <th>888</th>\n",
       "      <td>889</td>\n",
       "      <td>0</td>\n",
       "      <td>3</td>\n",
       "      <td>Johnston, Miss. Catherine Helen \"Carrie\"</td>\n",
       "      <td>female</td>\n",
       "      <td>NaN</td>\n",
       "      <td>1</td>\n",
       "      <td>2</td>\n",
       "      <td>W./C. 6607</td>\n",
       "      <td>23.4500</td>\n",
       "      <td>NaN</td>\n",
       "      <td>S</td>\n",
       "    </tr>\n",
       "    <tr>\n",
       "      <th>889</th>\n",
       "      <td>890</td>\n",
       "      <td>1</td>\n",
       "      <td>1</td>\n",
       "      <td>Behr, Mr. Karl Howell</td>\n",
       "      <td>male</td>\n",
       "      <td>26.0</td>\n",
       "      <td>0</td>\n",
       "      <td>0</td>\n",
       "      <td>111369</td>\n",
       "      <td>30.0000</td>\n",
       "      <td>C148</td>\n",
       "      <td>C</td>\n",
       "    </tr>\n",
       "    <tr>\n",
       "      <th>890</th>\n",
       "      <td>891</td>\n",
       "      <td>0</td>\n",
       "      <td>3</td>\n",
       "      <td>Dooley, Mr. Patrick</td>\n",
       "      <td>male</td>\n",
       "      <td>32.0</td>\n",
       "      <td>0</td>\n",
       "      <td>0</td>\n",
       "      <td>370376</td>\n",
       "      <td>7.7500</td>\n",
       "      <td>NaN</td>\n",
       "      <td>Q</td>\n",
       "    </tr>\n",
       "  </tbody>\n",
       "</table>\n",
       "<p>891 rows × 12 columns</p>\n",
       "</div>"
      ],
      "text/plain": [
       "     PassengerId  Survived  Pclass  \\\n",
       "0              1         0       3   \n",
       "1              2         1       1   \n",
       "2              3         1       3   \n",
       "3              4         1       1   \n",
       "4              5         0       3   \n",
       "..           ...       ...     ...   \n",
       "886          887         0       2   \n",
       "887          888         1       1   \n",
       "888          889         0       3   \n",
       "889          890         1       1   \n",
       "890          891         0       3   \n",
       "\n",
       "                                                  Name     Sex   Age  SibSp  \\\n",
       "0                              Braund, Mr. Owen Harris    male  22.0      1   \n",
       "1    Cumings, Mrs. John Bradley (Florence Briggs Th...  female  38.0      1   \n",
       "2                               Heikkinen, Miss. Laina  female  26.0      0   \n",
       "3         Futrelle, Mrs. Jacques Heath (Lily May Peel)  female  35.0      1   \n",
       "4                             Allen, Mr. William Henry    male  35.0      0   \n",
       "..                                                 ...     ...   ...    ...   \n",
       "886                              Montvila, Rev. Juozas    male  27.0      0   \n",
       "887                       Graham, Miss. Margaret Edith  female  19.0      0   \n",
       "888           Johnston, Miss. Catherine Helen \"Carrie\"  female   NaN      1   \n",
       "889                              Behr, Mr. Karl Howell    male  26.0      0   \n",
       "890                                Dooley, Mr. Patrick    male  32.0      0   \n",
       "\n",
       "     Parch            Ticket     Fare Cabin Embarked  \n",
       "0        0         A/5 21171   7.2500   NaN        S  \n",
       "1        0          PC 17599  71.2833   C85        C  \n",
       "2        0  STON/O2. 3101282   7.9250   NaN        S  \n",
       "3        0            113803  53.1000  C123        S  \n",
       "4        0            373450   8.0500   NaN        S  \n",
       "..     ...               ...      ...   ...      ...  \n",
       "886      0            211536  13.0000   NaN        S  \n",
       "887      0            112053  30.0000   B42        S  \n",
       "888      2        W./C. 6607  23.4500   NaN        S  \n",
       "889      0            111369  30.0000  C148        C  \n",
       "890      0            370376   7.7500   NaN        Q  \n",
       "\n",
       "[891 rows x 12 columns]"
      ]
     },
     "execution_count": 34,
     "metadata": {},
     "output_type": "execute_result"
    }
   ],
   "source": [
    "data = pd.read_csv(\"Data/titanic.csv\")\n",
    "data"
   ]
  },
  {
   "cell_type": "markdown",
   "id": "05045c73",
   "metadata": {},
   "source": [
    "# Questions"
   ]
  },
  {
   "cell_type": "markdown",
   "id": "a164d862",
   "metadata": {},
   "source": [
    "## 1. Préparation des données\n",
    "\n",
    "Remplissez la function `preprocess` ci-dessus. Celle-ci doit:\n",
    "1. Supprimez les colonnes `PassengerId`, `Name`, `Ticket`, `Cabin`.\n",
    "2. Supprimez les lignes contenant au moins une valeur manquante.\n",
    "3. Créer une variable `FamilySize` qui est correspond à `SibSp` + `Parch` + 1. Supprimez les variables `SibSp` et `Parch`.\n",
    "4. Recalculer le prix du billet `Fare` en divisant `Fare` par `FamilySize`.\n",
    "5. Encoder les variables qualitatives `Sex`, `Embarked` avec l'argument `drop_first=True`."
   ]
  },
  {
   "cell_type": "code",
   "execution_count": 35,
   "id": "d4299600",
   "metadata": {
    "ExecuteTime": {
     "end_time": "2024-12-30T19:07:20.273808Z",
     "start_time": "2024-12-30T19:07:20.269104Z"
    }
   },
   "outputs": [],
   "source": [
    "def preprocess(data: pd.DataFrame) -> pd.DataFrame:\n",
    "\n",
    "    \"\"\"La fonction prépare les données à l'analyse.\n",
    "\n",
    "    Args:\n",
    "        data (pd.DataFrame): La dataframe originale\n",
    "\n",
    "    Returns:\n",
    "        pd.DataFrame: La dataframe preprocessé et prête à être analysée.\n",
    "    \"\"\"\n",
    "\n",
    "    # Faire une copy de la dataframe originale\n",
    "    data_preprocessed = data.copy()\n",
    "\n",
    "    # Supprimez les variables `PassengerId`, `Name`, `Ticket` & `Cabin`\n",
    "    data_preprocessed = data_preprocessed.drop(columns=[\"PassengerId\", \"Name\", \"Ticket\", \"Cabin\"])\n",
    "\n",
    "    # Supprimez lignes contenant au moins une valeur manquante\n",
    "    data_preprocessed = data_preprocessed.dropna()\n",
    "\n",
    "    # Créer une variable `FamilySize` et supprimez les variables `SibSp` et `Parch`\n",
    "    data_preprocessed[\"FamilySize\"] = data_preprocessed[\"SibSp\"] + data_preprocessed[\"Parch\"] + 1\n",
    "    data_preprocessed = data_preprocessed.drop(columns=[\"SibSp\", \"Parch\"])\n",
    "\n",
    "    # Recalculer le prix du billet\n",
    "    data_preprocessed[\"Fare\"] = data_preprocessed[\"Fare\"] / data_preprocessed[\"FamilySize\"]\n",
    "\n",
    "    # Encode (OHE) `Sex` & `Embarked`\n",
    "    data_preprocessed = pd.get_dummies(\n",
    "        data_preprocessed,\n",
    "        columns=[\"Sex\", \"Embarked\"],\n",
    "        drop_first=True,\n",
    "        dtype=int\n",
    "    )\n",
    "\n",
    "\n",
    "\n",
    "    # CHECK: NE PAS TOUCHER\n",
    "    for col in [\"PassengerId\", \"Name\", \"Ticket\", \"Cabin\", \"SibSp\", \"Parch\"]:\n",
    "        assert col not in data_preprocessed, f\"{col} n'a pas été retiré.\"\n",
    "    assert data_preprocessed.isna().sum().sum() == 0, \"Il reste encore des NaN à supprimer.\"\n",
    "    assert \"FamilySize\" in data_preprocessed.columns, \"La colonne `FamilySize` n'a pas été créée.\"\n",
    "    assert data_preprocessed.loc[0, \"Fare\"] == 3.625, \"La colonne `Fare` n'a pas été recalculée.\"\n",
    "    for col in [col for col in data_preprocessed if col.startswith(\"Embarked\")]:\n",
    "        assert data_preprocessed[col].nunique() == 2, f\"{col} n'a pas été encodé.\"\n",
    "    for col in [col for col in data_preprocessed if col.startswith(\"Sex\")]:\n",
    "        assert data_preprocessed[col].nunique() == 2, f\"{col} n'a pas été encodé.\"\n",
    "\n",
    "    return data_preprocessed"
   ]
  },
  {
   "cell_type": "markdown",
   "id": "35ca88d2",
   "metadata": {},
   "source": [
    "Le résultat de la function doit vous donner exactement le tableau ci-dessous."
   ]
  },
  {
   "cell_type": "code",
   "execution_count": 36,
   "id": "53b7ef06",
   "metadata": {
    "ExecuteTime": {
     "end_time": "2024-12-30T19:07:20.409986Z",
     "start_time": "2024-12-30T19:07:20.398638Z"
    }
   },
   "outputs": [
    {
     "data": {
      "text/html": [
       "<div>\n",
       "<style scoped>\n",
       "    .dataframe tbody tr th:only-of-type {\n",
       "        vertical-align: middle;\n",
       "    }\n",
       "\n",
       "    .dataframe tbody tr th {\n",
       "        vertical-align: top;\n",
       "    }\n",
       "\n",
       "    .dataframe thead th {\n",
       "        text-align: right;\n",
       "    }\n",
       "</style>\n",
       "<table border=\"1\" class=\"dataframe\">\n",
       "  <thead>\n",
       "    <tr style=\"text-align: right;\">\n",
       "      <th></th>\n",
       "      <th>Survived</th>\n",
       "      <th>Pclass</th>\n",
       "      <th>Age</th>\n",
       "      <th>Fare</th>\n",
       "      <th>FamilySize</th>\n",
       "      <th>Sex_male</th>\n",
       "      <th>Embarked_Q</th>\n",
       "      <th>Embarked_S</th>\n",
       "    </tr>\n",
       "  </thead>\n",
       "  <tbody>\n",
       "    <tr>\n",
       "      <th>0</th>\n",
       "      <td>0</td>\n",
       "      <td>3</td>\n",
       "      <td>22.0</td>\n",
       "      <td>3.625000</td>\n",
       "      <td>2</td>\n",
       "      <td>1</td>\n",
       "      <td>0</td>\n",
       "      <td>1</td>\n",
       "    </tr>\n",
       "    <tr>\n",
       "      <th>1</th>\n",
       "      <td>1</td>\n",
       "      <td>1</td>\n",
       "      <td>38.0</td>\n",
       "      <td>35.641650</td>\n",
       "      <td>2</td>\n",
       "      <td>0</td>\n",
       "      <td>0</td>\n",
       "      <td>0</td>\n",
       "    </tr>\n",
       "    <tr>\n",
       "      <th>2</th>\n",
       "      <td>1</td>\n",
       "      <td>3</td>\n",
       "      <td>26.0</td>\n",
       "      <td>7.925000</td>\n",
       "      <td>1</td>\n",
       "      <td>0</td>\n",
       "      <td>0</td>\n",
       "      <td>1</td>\n",
       "    </tr>\n",
       "    <tr>\n",
       "      <th>3</th>\n",
       "      <td>1</td>\n",
       "      <td>1</td>\n",
       "      <td>35.0</td>\n",
       "      <td>26.550000</td>\n",
       "      <td>2</td>\n",
       "      <td>0</td>\n",
       "      <td>0</td>\n",
       "      <td>1</td>\n",
       "    </tr>\n",
       "    <tr>\n",
       "      <th>4</th>\n",
       "      <td>0</td>\n",
       "      <td>3</td>\n",
       "      <td>35.0</td>\n",
       "      <td>8.050000</td>\n",
       "      <td>1</td>\n",
       "      <td>1</td>\n",
       "      <td>0</td>\n",
       "      <td>1</td>\n",
       "    </tr>\n",
       "    <tr>\n",
       "      <th>...</th>\n",
       "      <td>...</td>\n",
       "      <td>...</td>\n",
       "      <td>...</td>\n",
       "      <td>...</td>\n",
       "      <td>...</td>\n",
       "      <td>...</td>\n",
       "      <td>...</td>\n",
       "      <td>...</td>\n",
       "    </tr>\n",
       "    <tr>\n",
       "      <th>885</th>\n",
       "      <td>0</td>\n",
       "      <td>3</td>\n",
       "      <td>39.0</td>\n",
       "      <td>4.854167</td>\n",
       "      <td>6</td>\n",
       "      <td>0</td>\n",
       "      <td>1</td>\n",
       "      <td>0</td>\n",
       "    </tr>\n",
       "    <tr>\n",
       "      <th>886</th>\n",
       "      <td>0</td>\n",
       "      <td>2</td>\n",
       "      <td>27.0</td>\n",
       "      <td>13.000000</td>\n",
       "      <td>1</td>\n",
       "      <td>1</td>\n",
       "      <td>0</td>\n",
       "      <td>1</td>\n",
       "    </tr>\n",
       "    <tr>\n",
       "      <th>887</th>\n",
       "      <td>1</td>\n",
       "      <td>1</td>\n",
       "      <td>19.0</td>\n",
       "      <td>30.000000</td>\n",
       "      <td>1</td>\n",
       "      <td>0</td>\n",
       "      <td>0</td>\n",
       "      <td>1</td>\n",
       "    </tr>\n",
       "    <tr>\n",
       "      <th>889</th>\n",
       "      <td>1</td>\n",
       "      <td>1</td>\n",
       "      <td>26.0</td>\n",
       "      <td>30.000000</td>\n",
       "      <td>1</td>\n",
       "      <td>1</td>\n",
       "      <td>0</td>\n",
       "      <td>0</td>\n",
       "    </tr>\n",
       "    <tr>\n",
       "      <th>890</th>\n",
       "      <td>0</td>\n",
       "      <td>3</td>\n",
       "      <td>32.0</td>\n",
       "      <td>7.750000</td>\n",
       "      <td>1</td>\n",
       "      <td>1</td>\n",
       "      <td>1</td>\n",
       "      <td>0</td>\n",
       "    </tr>\n",
       "  </tbody>\n",
       "</table>\n",
       "<p>712 rows × 8 columns</p>\n",
       "</div>"
      ],
      "text/plain": [
       "     Survived  Pclass   Age       Fare  FamilySize  Sex_male  Embarked_Q  \\\n",
       "0           0       3  22.0   3.625000           2         1           0   \n",
       "1           1       1  38.0  35.641650           2         0           0   \n",
       "2           1       3  26.0   7.925000           1         0           0   \n",
       "3           1       1  35.0  26.550000           2         0           0   \n",
       "4           0       3  35.0   8.050000           1         1           0   \n",
       "..        ...     ...   ...        ...         ...       ...         ...   \n",
       "885         0       3  39.0   4.854167           6         0           1   \n",
       "886         0       2  27.0  13.000000           1         1           0   \n",
       "887         1       1  19.0  30.000000           1         0           0   \n",
       "889         1       1  26.0  30.000000           1         1           0   \n",
       "890         0       3  32.0   7.750000           1         1           1   \n",
       "\n",
       "     Embarked_S  \n",
       "0             1  \n",
       "1             0  \n",
       "2             1  \n",
       "3             1  \n",
       "4             1  \n",
       "..          ...  \n",
       "885           0  \n",
       "886           1  \n",
       "887           1  \n",
       "889           0  \n",
       "890           0  \n",
       "\n",
       "[712 rows x 8 columns]"
      ]
     },
     "metadata": {},
     "output_type": "display_data"
    }
   ],
   "source": [
    "# Preprocess les données à l'aide de la function `preprocess`\n",
    "data_clean = preprocess(data)\n",
    "display(data_clean)"
   ]
  },
  {
   "cell_type": "code",
   "execution_count": 37,
   "id": "f1eff59c1bc5aaa7",
   "metadata": {
    "ExecuteTime": {
     "end_time": "2024-12-30T19:07:20.701180Z",
     "start_time": "2024-12-30T19:07:20.685885Z"
    }
   },
   "outputs": [
    {
     "data": {
      "text/html": [
       "<div>\n",
       "<style scoped>\n",
       "    .dataframe tbody tr th:only-of-type {\n",
       "        vertical-align: middle;\n",
       "    }\n",
       "\n",
       "    .dataframe tbody tr th {\n",
       "        vertical-align: top;\n",
       "    }\n",
       "\n",
       "    .dataframe thead th {\n",
       "        text-align: right;\n",
       "    }\n",
       "</style>\n",
       "<table border=\"1\" class=\"dataframe\">\n",
       "  <thead>\n",
       "    <tr style=\"text-align: right;\">\n",
       "      <th></th>\n",
       "      <th>Survived</th>\n",
       "      <th>Pclass</th>\n",
       "      <th>Age</th>\n",
       "      <th>Fare</th>\n",
       "      <th>FamilySize</th>\n",
       "      <th>Sex_male</th>\n",
       "      <th>Embarked_Q</th>\n",
       "      <th>Embarked_S</th>\n",
       "    </tr>\n",
       "  </thead>\n",
       "  <tbody>\n",
       "    <tr>\n",
       "      <th>count</th>\n",
       "      <td>712.000000</td>\n",
       "      <td>712.000000</td>\n",
       "      <td>712.000000</td>\n",
       "      <td>712.000000</td>\n",
       "      <td>712.000000</td>\n",
       "      <td>712.000000</td>\n",
       "      <td>712.000000</td>\n",
       "      <td>712.000000</td>\n",
       "    </tr>\n",
       "    <tr>\n",
       "      <th>mean</th>\n",
       "      <td>0.404494</td>\n",
       "      <td>2.240169</td>\n",
       "      <td>29.642093</td>\n",
       "      <td>20.736106</td>\n",
       "      <td>1.946629</td>\n",
       "      <td>0.636236</td>\n",
       "      <td>0.039326</td>\n",
       "      <td>0.778090</td>\n",
       "    </tr>\n",
       "    <tr>\n",
       "      <th>std</th>\n",
       "      <td>0.491139</td>\n",
       "      <td>0.836854</td>\n",
       "      <td>14.492933</td>\n",
       "      <td>37.544783</td>\n",
       "      <td>1.485027</td>\n",
       "      <td>0.481420</td>\n",
       "      <td>0.194506</td>\n",
       "      <td>0.415823</td>\n",
       "    </tr>\n",
       "    <tr>\n",
       "      <th>min</th>\n",
       "      <td>0.000000</td>\n",
       "      <td>1.000000</td>\n",
       "      <td>0.420000</td>\n",
       "      <td>0.000000</td>\n",
       "      <td>1.000000</td>\n",
       "      <td>0.000000</td>\n",
       "      <td>0.000000</td>\n",
       "      <td>0.000000</td>\n",
       "    </tr>\n",
       "    <tr>\n",
       "      <th>25%</th>\n",
       "      <td>0.000000</td>\n",
       "      <td>1.000000</td>\n",
       "      <td>20.000000</td>\n",
       "      <td>7.318750</td>\n",
       "      <td>1.000000</td>\n",
       "      <td>0.000000</td>\n",
       "      <td>0.000000</td>\n",
       "      <td>1.000000</td>\n",
       "    </tr>\n",
       "    <tr>\n",
       "      <th>50%</th>\n",
       "      <td>0.000000</td>\n",
       "      <td>2.000000</td>\n",
       "      <td>28.000000</td>\n",
       "      <td>9.225000</td>\n",
       "      <td>1.000000</td>\n",
       "      <td>1.000000</td>\n",
       "      <td>0.000000</td>\n",
       "      <td>1.000000</td>\n",
       "    </tr>\n",
       "    <tr>\n",
       "      <th>75%</th>\n",
       "      <td>1.000000</td>\n",
       "      <td>3.000000</td>\n",
       "      <td>38.000000</td>\n",
       "      <td>26.000000</td>\n",
       "      <td>2.000000</td>\n",
       "      <td>1.000000</td>\n",
       "      <td>0.000000</td>\n",
       "      <td>1.000000</td>\n",
       "    </tr>\n",
       "    <tr>\n",
       "      <th>max</th>\n",
       "      <td>1.000000</td>\n",
       "      <td>3.000000</td>\n",
       "      <td>80.000000</td>\n",
       "      <td>512.329200</td>\n",
       "      <td>8.000000</td>\n",
       "      <td>1.000000</td>\n",
       "      <td>1.000000</td>\n",
       "      <td>1.000000</td>\n",
       "    </tr>\n",
       "  </tbody>\n",
       "</table>\n",
       "</div>"
      ],
      "text/plain": [
       "         Survived      Pclass         Age        Fare  FamilySize    Sex_male  \\\n",
       "count  712.000000  712.000000  712.000000  712.000000  712.000000  712.000000   \n",
       "mean     0.404494    2.240169   29.642093   20.736106    1.946629    0.636236   \n",
       "std      0.491139    0.836854   14.492933   37.544783    1.485027    0.481420   \n",
       "min      0.000000    1.000000    0.420000    0.000000    1.000000    0.000000   \n",
       "25%      0.000000    1.000000   20.000000    7.318750    1.000000    0.000000   \n",
       "50%      0.000000    2.000000   28.000000    9.225000    1.000000    1.000000   \n",
       "75%      1.000000    3.000000   38.000000   26.000000    2.000000    1.000000   \n",
       "max      1.000000    3.000000   80.000000  512.329200    8.000000    1.000000   \n",
       "\n",
       "       Embarked_Q  Embarked_S  \n",
       "count  712.000000  712.000000  \n",
       "mean     0.039326    0.778090  \n",
       "std      0.194506    0.415823  \n",
       "min      0.000000    0.000000  \n",
       "25%      0.000000    1.000000  \n",
       "50%      0.000000    1.000000  \n",
       "75%      0.000000    1.000000  \n",
       "max      1.000000    1.000000  "
      ]
     },
     "execution_count": 37,
     "metadata": {},
     "output_type": "execute_result"
    }
   ],
   "source": [
    "data_clean.describe()"
   ]
  },
  {
   "cell_type": "markdown",
   "id": "5a1091b1",
   "metadata": {},
   "source": [
    "## 2. Inférence statistique (4 pts)\n",
    "\n",
    "### Q1: L'âge moyen des passagers du Titanic est-il le même que l'âge moyen de la population en 1912 (28 ans) ?\n",
    "\n",
    "#### Q1.1. Identifier la ou les variables d'intérêt et spécifier le type.\n",
    "\n",
    "Variable *Age*, type *Quantitatif, continue*\n",
    "\n",
    "#### Q1.2. Réaliser une visualisation appropriée selon la ou les variables."
   ]
  },
  {
   "cell_type": "code",
   "execution_count": 38,
   "id": "e8498acdd1245861",
   "metadata": {
    "ExecuteTime": {
     "end_time": "2024-12-30T19:07:21.244884Z",
     "start_time": "2024-12-30T19:07:21.068346Z"
    }
   },
   "outputs": [
    {
     "data": {
      "image/png": "[encoded data removed]",
      "text/plain": [
       "<Figure size 500x500 with 1 Axes>"
      ]
     },
     "metadata": {},
     "output_type": "display_data"
    }
   ],
   "source": [
    "sns.displot(\n",
    "    data=data_clean,\n",
    "    x=\"Age\",\n",
    "    kde=True\n",
    ")\n",
    "plt.title(\"Distribution de l'âge des passagers\")\n",
    "plt.show()"
   ]
  },
  {
   "cell_type": "markdown",
   "id": "69618e4bceaf2548",
   "metadata": {},
   "source": [
    "#### Q1.3. Enoncer une hypothèse nulle et une hypothèse alternative considérant la ou les variables identifiées.\n",
    "\n",
    "**H0:** L'âge moyen des passagers est *identique* à celui de la population en 1912 (28 ans).  \n",
    "**H1:** L'âge moyen des passagers est *différent* de celui de la population en 1912 (28 ans).\n",
    "\n",
    "#### Q1.4. Identifier le test statistique approprié selon les hypothèses énoncées.\n",
    "\n",
    "Nous devons réaliser un t-test (car nous n'avons pas l'écart type de la population de 1912) pour comparer la moyenne de l'age de notre échantillon à celle de la population en 1912.\n",
    "\n",
    "#### Q1.5. Vérifier la validation des assumptions selon le test identifié.\n",
    "\n",
    "1. *Les échantillons sont aléatoires.*  \n",
    "    L'échantillon fourni représente un peu plus d'un tiers des passagers du Titanic. A priori cet échantillon n'est pas aléatoire au sens statistique, mais suffisament représentatif de la population du titanic (https://campus.lakeforest.edu/frank/FILES/MLFfiles/Bio150/Titanic/TitanicMETA.pdf).\n",
    "    Nous avons retiré 180 lignes incomplétes.  \n",
    "2. *La taille de l'échantillon est supérieur à 30 et la population est normalement distribué.*  \n",
    "    Notre échantillon est supérieur à 30 et la population est proche de normalement distribuée.\n",
    "\n",
    "#### Q1.6. Calculer la statistique ainsi que la p-valeur."
   ]
  },
  {
   "cell_type": "code",
   "execution_count": 39,
   "id": "10f4ee89b031bf30",
   "metadata": {
    "ExecuteTime": {
     "end_time": "2024-12-30T19:07:21.516282Z",
     "start_time": "2024-12-30T19:07:21.511213Z"
    }
   },
   "outputs": [
    {
     "name": "stdout",
     "output_type": "stream",
     "text": [
      "Moyenne age titanic :  29.64209269662921\n",
      "La statistique t est de : 3.0233009800374053\n",
      "La p-valeur associée est de : 0.002590259537786662\n",
      "La taille de l'effet est de selon la formule du d de Cohen : 0.7941512902666406\n"
     ]
    }
   ],
   "source": [
    "mean_1912_population_age = 28\n",
    "print(\"Moyenne age titanic : \", np.mean(data_clean[\"Age\"]))\n",
    "\n",
    "t, p_value = stats.ttest_1samp(data_clean[\"Age\"], popmean=mean_1912_population_age)\n",
    "\n",
    "print(\"La statistique t est de : \" + str(t))\n",
    "print(\"La p-valeur associée est de : \" + str(p_value))\n",
    "\n",
    "nb_Titanic_Population = data_clean[\"Age\"].std()\n",
    "#Estimation de la population mondiale en 1912, source : https://en.wikipedia.org/wiki/World_population\n",
    "nb_World_Population_1912 = 1800000000\n",
    "d_effec_size = cohen(nb_Titanic_Population, nb_World_Population_1912, t)\n",
    "print(\"La taille de l'effet est de selon la formule du d de Cohen : \" + str(d_effec_size))"
   ]
  },
  {
   "cell_type": "markdown",
   "id": "b1e5da9e49810fbf",
   "metadata": {},
   "source": [
    "#### Q1.7. Prendre une décision à partir de la p-valeur et d'un seuil alpha de 5%."
   ]
  },
  {
   "cell_type": "code",
   "execution_count": 40,
   "id": "b0a09080ac06271a",
   "metadata": {
    "ExecuteTime": {
     "end_time": "2024-12-30T19:07:21.890154Z",
     "start_time": "2024-12-30T19:07:21.886562Z"
    }
   },
   "outputs": [
    {
     "data": {
      "text/plain": [
       "\"On rejette l'hypothèse nulle\""
      ]
     },
     "execution_count": 40,
     "metadata": {},
     "output_type": "execute_result"
    }
   ],
   "source": [
    "\"On rejette l'hypothèse nulle\" if p_value < 0.05 else \"On ne rejette pas l'hypothèse nulle\""
   ]
  },
  {
   "cell_type": "markdown",
   "id": "93fdb7b6",
   "metadata": {},
   "source": [
    "#### Q1.8. Interpréter le résultat et évaluer la taille de l'effet.\n",
    "\n",
    "Nous constatons que : la p-value obtenue est faible, **0.0025**. Ce qui doit nous amener a la rejeter en considérant un seuil à 0.05.\n",
    "Aussi, la taille de l'effet est considérée comme élevée : **0.79**.\n",
    "\n",
    "Pour rappel, la moyenne d'age du titanic est de **1.6** année supérieure a la moyenne mondiale de 1912. Cette différence, bien que paraissant faible en valeur absolue, est une différence statistiquement significative aux yeux du t-test effectué.\n",
    "\n",
    "En d'autres termes, une p-value de **0.0025** nous laisse penser que l'hypothèse nulle proposée n'est pas une hypothèse satisfaisante aux yeux des données analysées.\n",
    "\n",
    "Etant donné la petite population du titanic en regard de la taille de la population mondiale, nous comprenons pourquoi la taille de l'effet est si élevée. Malgré la faible différence absolue de moyenne, avoir 1.6 ans supplémentaire semble nécecessiter une explications plus poussée. Cela peut nous laisser penser que la population du titanic n'est a priori pas réprésentative de la population mondiale de 1912. Il faudrait tester un certain nombre d'autres hypothèses pour orienter notre réflexion. Il serait alors peut être possible de trouver des explications à cette différence d'age moyenne.\n",
    "\n",
    "### Q2: La survie dépend-elle de la classe du passager ?\n",
    "\n",
    "#### Q2.1. Identifier la ou les variables d'intérêt et spécifier le type.\n",
    "\n",
    "Il nous faudra la variable `Pclasss` ainsi que la variable `Survived`. La première est qualitative ordinale, et la seconde est qualitative nominale.\n",
    "\n",
    "#### Q2.2. Réaliser une visualisation appropriée selon la ou les variables."
   ]
  },
  {
   "cell_type": "code",
   "execution_count": 41,
   "id": "e9500db99752b38c",
   "metadata": {
    "ExecuteTime": {
     "end_time": "2024-12-30T19:07:22.175277Z",
     "start_time": "2024-12-30T19:07:22.019353Z"
    }
   },
   "outputs": [
    {
     "data": {
      "image/png": "[encoded data removed]",
      "text/plain": [
       "<Figure size 640x480 with 1 Axes>"
      ]
     },
     "metadata": {},
     "output_type": "display_data"
    },
    {
     "data": {
      "image/png": "[encoded data removed]",
      "text/plain": [
       "<Figure size 640x480 with 1 Axes>"
      ]
     },
     "metadata": {},
     "output_type": "display_data"
    }
   ],
   "source": [
    "sns.countplot(\n",
    "    data=data_clean,\n",
    "    x=\"Pclass\",\n",
    "    hue=\"Survived\"\n",
    ")\n",
    "plt.title(\"Survie des passagers par classe\")\n",
    "plt.show()\n",
    "\n",
    "sns.barplot(\n",
    "    data=data_clean,\n",
    "    x=\"Pclass\",\n",
    "    y=\"Survived\",\n",
    "    errorbar=None\n",
    ")\n",
    "# Display percentage on bars\n",
    "plt.title(\"Taux de survie par classe\")\n",
    "plt.show()"
   ]
  },
  {
   "cell_type": "markdown",
   "id": "9be129af83a28999",
   "metadata": {},
   "source": [
    "#### Q2.3. Enoncer une hypothèse nulle et une hypothèse alternative considérant la ou les variables identifiées.\n",
    "\n",
    "*H0:* La survie ne dépend pas de la classe des passagers.  \n",
    "*H1:* La survie dépend de la classe des passagers.\n",
    "\n",
    "#### Q2.4. Identifier le test statistique approprié selon les hypothèses énoncées.\n",
    "\n",
    "Le test chi2 nous permettra de tester la dépendance entre les variables `Pclass` et `Survived`.\n",
    "\n",
    "#### Q2.5. Vérifier la validation des assumptions selon le test identifié.\n",
    "\n",
    "1. *Les échantillons sont aléatoires.*  \n",
    "    L'échantillon fourni représente un peu plus d'un tiers des passagers du Titanic. A priori cet échantillon n'est pas aléatoire au sens statistique, mais suffisament représentatif de la population du titanic (https://campus.lakeforest.edu/frank/FILES/MLFfiles/Bio150/Titanic/TitanicMETA.pdf).\n",
    "    Nous avons retiré 180 lignes incomplétes.\n",
    "2. *5 valeurs minimum par combinaisons de variables.*  \n",
    "    Nous avons plus de 50 valeurs par combinaisons.\n",
    "\n",
    "#### Q2.6. Calculer la statistique ainsi que la p-valeur."
   ]
  },
  {
   "cell_type": "code",
   "execution_count": 42,
   "id": "509f1c7012d5865",
   "metadata": {
    "ExecuteTime": {
     "end_time": "2024-12-30T19:07:22.319812Z",
     "start_time": "2024-12-30T19:07:22.311480Z"
    }
   },
   "outputs": [
    {
     "name": "stdout",
     "output_type": "stream",
     "text": [
      "La statistique chi2 est de : 91.08074548791019\n",
      "La p-valeur associée est de : 1.6675060315554636e-20\n",
      "Le degré de liberté est de : 2\n",
      "La taille de l'effet est de : 0.13518368210284873\n"
     ]
    }
   ],
   "source": [
    "chi2, p_value, dof, _ = stats.chi2_contingency(\n",
    "    pd.crosstab(data_clean[\"Pclass\"], data_clean[\"Survived\"])\n",
    ")\n",
    "# Cramer's V, to calculate the effect size\n",
    "effect_size = np.sqrt(chi2 / (data_clean.shape[0] * (min(data_clean.shape) - 1)))\n",
    "\n",
    "print(\"La statistique chi2 est de : \" + str(chi2))\n",
    "print(\"La p-valeur associée est de : \" + str(p_value))\n",
    "print(\"Le degré de liberté est de : \" + str(dof))\n",
    "print(\"La taille de l'effet est de : \" + str(effect_size))"
   ]
  },
  {
   "cell_type": "markdown",
   "id": "ef241f38d6a44cc8",
   "metadata": {},
   "source": [
    "#### Q2.7. Prendre une décision à partir de la p-valeur et d'un seuil alpha de 5%."
   ]
  },
  {
   "cell_type": "code",
   "execution_count": 43,
   "id": "2c72ef267fc75bf5",
   "metadata": {
    "ExecuteTime": {
     "end_time": "2024-12-30T19:07:22.418649Z",
     "start_time": "2024-12-30T19:07:22.415828Z"
    }
   },
   "outputs": [
    {
     "data": {
      "text/plain": [
       "\"On rejette l'hypothèse nulle\""
      ]
     },
     "execution_count": 43,
     "metadata": {},
     "output_type": "execute_result"
    }
   ],
   "source": [
    "\"On rejette l'hypothèse nulle\" if p_value < 0.05 else \"On ne rejette pas l'hypothèse nulle\""
   ]
  },
  {
   "cell_type": "markdown",
   "id": "7ec7b55f",
   "metadata": {},
   "source": [
    "#### Q2.8. Interpréter le résultat et évaluer la taille de l'effet.\n",
    "\n",
    "La p-value obtenue est particulièrement faible, cela nous amêne a rejeter l'hypothèse nulle. Ces valeurs nous montrent qu'il y a vraisemblament des facteurs qui agissent sur la survie des passageers, dans notre cas, la classe du passager. Afin d'en avoir le coeur net, il serait intéressant de tester un certains nobre d'hypothèses pour mieux comprendre les facteurs qui influent sur la survie des passagers.\n",
    "En effet, il n'est pas impossible que des facteurs de confusion soient présents, par exemple, on peut imaginer que le placement des quartiers première classe est plus proche des canots, dans ce cas, la classe nous indiquerait une tendance, mais ne serait pas la réelle cause de la survie ou non.\n",
    "\n",
    "Pour finir, la taille de l'effet est faible (moins de 0.2), cela nous indique q'il semble que nos deux variables, malgré une p-value faible, ne sont pas fortement liées. Cela peut d'avantage apuier l'idée que la classe n'est potentiellement pas le facteur direct ou principal de la survie des passagers.\n",
    "\n",
    "### Q3: Existe-t-il une différence d'âge entre les passagers qui ont survécu et les passagers décédés ?\n",
    "\n",
    "#### Q3.1. Identifier la ou les variables d'intérêt et spécifier le type.\n",
    "\n",
    "La variable `Survived` est qualitative nominale, et la variable `Age` est quantitative continue.\n",
    "\n",
    "#### Q3.2. Réaliser une visualisation appropriée selon la ou les variables."
   ]
  },
  {
   "cell_type": "code",
   "execution_count": 44,
   "id": "ecde48944e7b0edf",
   "metadata": {
    "ExecuteTime": {
     "end_time": "2024-12-30T19:07:22.782007Z",
     "start_time": "2024-12-30T19:07:22.516428Z"
    }
   },
   "outputs": [
    {
     "data": {
      "image/png": "[encoded data removed]",
      "text/plain": [
       "<Figure size 572.111x500 with 1 Axes>"
      ]
     },
     "metadata": {},
     "output_type": "display_data"
    }
   ],
   "source": [
    "# Graph with one distribution per survival status\n",
    "sns.displot(\n",
    "    data=data_clean,\n",
    "    x=\"Age\",\n",
    "    hue=\"Survived\",\n",
    "    kde=True\n",
    ")\n",
    "plt.title(\"Distribution de l'âge des passagers par survie\")\n",
    "plt.show()"
   ]
  },
  {
   "cell_type": "markdown",
   "id": "60e8cad7cd2d5d87",
   "metadata": {},
   "source": [
    "#### Q3.3. Enoncer une hypothèse nulle et une hypothèse alternative considérant la ou les variables identifiées.\n",
    "\n",
    "*H0:* L'age n'influence pas le taux de survie des passagers.  \n",
    "*H1:* L'age influence le taux de survie des passagers.\n",
    "\n",
    "#### Q3.4. Identifier le test statistique approprié selon les hypothèses énoncées.\n",
    "\n",
    "Nous pouvons réaliser un t-test a 2 échantillons, afin de comparer les moyenne d'age des survivants aux décédés.\n",
    "\n",
    "#### Q3.5. Vérifier la validation des assumptions selon le test identifié.\n",
    "\n",
    "1. *Les échantillons sont aléatoires.*  \n",
    "    L'échantillon fourni représente un peu plus d'un tiers des passagers du Titanic. A priori cet échantillon n'est pas aléatoire au sens statistique, mais suffisament représentatif de la population du titanic (https://campus.lakeforest.edu/frank/FILES/MLFfiles/Bio150/Titanic/TitanicMETA.pdf).\n",
    "    Nous avons retiré 180 lignes incomplétes.\n",
    "2. *Les échantillons sont indépendants.*  \n",
    "    Nos 2 échantillons sont indépendants.\n",
    "3. *La taille des l'échantillon est supérieur à 30 et la population est normalement distribué.*  \n",
    "    Nos échantillons sont supérieurs à 30 et la population est proche de normalement distribuée.\n",
    "\n",
    "#### Q3.6. Calculer la statistique ainsi que la p-valeur."
   ]
  },
  {
   "cell_type": "code",
   "execution_count": 45,
   "id": "dd87ce099c1553ed",
   "metadata": {
    "ExecuteTime": {
     "end_time": "2024-12-30T19:07:22.797783Z",
     "start_time": "2024-12-30T19:07:22.791292Z"
    }
   },
   "outputs": [
    {
     "name": "stdout",
     "output_type": "stream",
     "text": [
      "La statistique t est de : -2.2043427748445956\n",
      "La p-valeur associée est de : 0.027820316250851285\n"
     ]
    }
   ],
   "source": [
    "t, p_value = stats.ttest_ind(\n",
    "    data_clean.loc[data_clean[\"Survived\"] == 1, \"Age\"],\n",
    "    data_clean.loc[data_clean[\"Survived\"] == 0, \"Age\"]\n",
    ")\n",
    "\n",
    "print(\"La statistique t est de : \" + str(t))\n",
    "print(\"La p-valeur associée est de : \" + str(p_value))"
   ]
  },
  {
   "cell_type": "markdown",
   "id": "43c9c95a4221a5fd",
   "metadata": {},
   "source": [
    "#### Q3.7. Prendre une décision à partir de la p-valeur et d'un seuil alpha de 5%."
   ]
  },
  {
   "cell_type": "code",
   "execution_count": 46,
   "id": "1fc4bde5d47cfce2",
   "metadata": {
    "ExecuteTime": {
     "end_time": "2024-12-30T19:07:22.849663Z",
     "start_time": "2024-12-30T19:07:22.846437Z"
    }
   },
   "outputs": [
    {
     "data": {
      "text/plain": [
       "\"On rejette l'hypothèse nulle\""
      ]
     },
     "execution_count": 46,
     "metadata": {},
     "output_type": "execute_result"
    }
   ],
   "source": [
    "\"On rejette l'hypothèse nulle\" if p_value < 0.05 else \"On ne rejette pas l'hypothèse nulle\""
   ]
  },
  {
   "cell_type": "markdown",
   "id": "6dba1f3c",
   "metadata": {},
   "source": [
    "#### Q3.8. Interpréter le résultat et évaluer la taille de l'effet.\n",
    "\n",
    "### Q4: Existe-t-il une relation entre l'âge des passagers et le prix des billets ?\n",
    "\n",
    "#### Q4.1. Identifier la ou les variables d'intérêt et spécifier le type.\n",
    "\n",
    "La deux variables `Age` et `Fare` sont quantitatives continues.\n",
    "\n",
    "#### Q4.2. Réaliser une visualisation appropriée selon la ou les variables."
   ]
  },
  {
   "cell_type": "code",
   "execution_count": 47,
   "id": "5713f6609739846e",
   "metadata": {
    "ExecuteTime": {
     "end_time": "2024-12-30T19:07:23.021908Z",
     "start_time": "2024-12-30T19:07:22.945505Z"
    }
   },
   "outputs": [
    {
     "data": {
      "image/png": "[encoded data removed]",
      "text/plain": [
       "<Figure size 640x480 with 1 Axes>"
      ]
     },
     "metadata": {},
     "output_type": "display_data"
    }
   ],
   "source": [
    "sns.regplot(\n",
    "    data=data_clean,\n",
    "    x=\"Age\",\n",
    "    y=\"Fare\",\n",
    "    ci=None,\n",
    "    line_kws={\"color\": \"red\"}\n",
    ")\n",
    "plt.title(\"Relation entre l'âge et le prix des billets\")\n",
    "plt.show()"
   ]
  },
  {
   "cell_type": "markdown",
   "id": "bbcdccba987ca11a",
   "metadata": {},
   "source": [
    "#### Q4.3. Enoncer une hypothèse nulle et une hypothèse alternative considérant la ou les variables identifiées.\n",
    "\n",
    "*H0:* Nous n'observons pas de relation entre l'age et le prix des billets.  \n",
    "*H1:* Nous observons une relation entre l'age et le prix des billets.\n",
    "\n",
    "#### Q4.4. Identifier le test statistique approprié selon les hypothèses énoncées.\n",
    "\n",
    "Il nous faut réaliser un test de corrélation entre les 2 variables.\n",
    "\n",
    "#### Q4.5. Vérifier la validation des assumptions selon le test identifié.\n",
    "\n",
    "1. *Les 2 variables doivent être quantitatives.* OK\n",
    "2. *Les données doivent être approximativement liées linéairement.* A priori pas, ou trop faiblement.\n",
    "3. *Les résidus de la régression linéaire sont indépendants* Oui.\n",
    "4. *Les résidus de la régression linéaire sont normalement distribués* Oui.\n",
    "5. *Les résidus de la régression linéaire sont distribuées de façon homogène* Oui.\n",
    "\n",
    "#### Q4.6. Calculer la statistique ainsi que la p-valeur.\n",
    "\n",
    "A priori la relation n'est pas linéaire car nous ne remplissons pas les assumptions. Cependant, nous pouvons réaliser un test de corrélation pour l'essai :"
   ]
  },
  {
   "cell_type": "code",
   "execution_count": 48,
   "id": "95cae6276ccdcbc3",
   "metadata": {
    "ExecuteTime": {
     "end_time": "2024-12-30T19:07:23.044510Z",
     "start_time": "2024-12-30T19:07:23.041502Z"
    }
   },
   "outputs": [
    {
     "name": "stdout",
     "output_type": "stream",
     "text": [
      "La corrélation entre l'age et le prix des billets est de : 0.14563315923055964\n"
     ]
    }
   ],
   "source": [
    "# Correlation test\n",
    "corr = data_clean.corr()[\"Age\"][\"Fare\"]\n",
    "print(\"La corrélation entre l'age et le prix des billets est de : \" + str(corr))"
   ]
  },
  {
   "cell_type": "markdown",
   "id": "5425c746",
   "metadata": {},
   "source": [
    "Une corrélation en dessous de 0.3 est considérée comme faible. Sachant que nous ne respectons pas totalement les assumptions, nous ne pouvons pas conclure sur la relation entre l'age et le prix des billets.\n",
    "\n",
    "#### Q4.7. Prendre une décision à partir de la p-valeur et d'un seuil alpha de 5%.\n",
    "\n",
    "Nous n'avons pas de p-valeur a calculer car nous ne respectons pas les assumptions, il n'y a donc pas de corrélation significative entre l'age et le prix des billets.\n",
    "\n",
    "#### Q4.8. Interpréter le résultat et évaluer la taille de l'effet."
   ]
  },
  {
   "cell_type": "markdown",
   "id": "0d66b468",
   "metadata": {},
   "source": [
    "\n",
    "### Quelques liens utiles pour la taille de l'effet:\n",
    "* [https://rpsychologist.com/cohend/](https://rpsychologist.com/cohend/)\n",
    "* [https://datatab.net/tutorial/effect-size-independent-t-test](https://datatab.net/tutorial/effect-size-independent-t-test)\n",
    "* [https://www.simplypsychology.org/effect-size.html](https://www.simplypsychology.org/effect-size.html)\n",
    "\n",
    "## 3. Data mining (2 pts)\n",
    "\n",
    "### Q1: Effectuer une analyse statistique à l'aide de la régression logistique avec comme variable dépendente la variable `Survived`. Interpréter les coefficients et discuter de leur importance statistique en vous appuyant sur leur p-valeur.\n",
    "\n",
    "### Q2: Effecter une analyse statistique à l'aide d'un arbre de classification avec comme variable dépendente la variable `Survived` et une profondeur maximale de 4. Visualiser l'arbre et expliquer quelques décisions.**\n",
    "\n",
    "### Conclusion: Interpréter les résultats des deux analyses statistiques et résumer les points importants de votre étude.\n",
    "\n",
    "# Sources statistiques\n",
    "https://www.researchgate.net/figure/Effect-size-Cramers-V-for-the-survival-of-Titanic-passengers-by-class-position-Titanic_tbl1_370188870"
   ]
  }
 ],
 "metadata": {
  "kernelspec": {
   "display_name": "venv",
   "language": "python",
   "name": "python3"
  },
  "language_info": {
   "codemirror_mode": {
    "name": "ipython",
    "version": 3
   },
   "file_extension": ".py",
   "mimetype": "text/x-python",
   "name": "python",
   "nbconvert_exporter": "python",
   "pygments_lexer": "ipython3",
   "version": "3.13.1"
  }
 },
 "nbformat": 4,
 "nbformat_minor": 5
}
